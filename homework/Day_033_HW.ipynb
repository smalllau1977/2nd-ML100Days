{
 "cells": [
  {
   "cell_type": "markdown",
   "metadata": {},
   "source": [
    "## 練習時間"
   ]
  },
  {
   "cell_type": "markdown",
   "metadata": {},
   "source": [
    "請觀看李宏毅教授以神奇寶貝進化 CP 值預測的範例，解說何謂機器學習與過擬合。並回答以下問題"
   ]
  },
  {
   "cell_type": "markdown",
   "metadata": {},
   "source": [
    "[youtube](https://www.youtube.com/watch?v=fegAeph9UaA)"
   ]
  },
  {
   "cell_type": "markdown",
   "metadata": {},
   "source": [
    "### 一、模型的泛化能力 (generalization) 是指什麼？ \n",
    "\n",
    "* 說明：\n",
    "\n",
    "泛化能力（generalization ability）是指机器学习算法对新鲜样本的适应能力。\n",
    "\n",
    "学习的目的是学到隐含在数据背后的规律，对具有同一规律的学习集以外的数据，\n",
    "\n",
    "经过训练的网络也能给出合适的输出，该能力称为泛化能力。\n",
    "\n",
    "1.泛化能力的定义：\n",
    "\n",
    "概括地说，泛化能力（generalization ability）是指机器学习算法对新鲜样本的适应能力,\n",
    "\n",
    "简而言之是在原有的数据集上添加新的数据集，通过训练输出一个合理的结果。学习的目的是学到隐含在数据背后的规律，\n",
    "\n",
    "对具有同一规律的学习集以外的数据，经过训练的网络也能给出合适的输出，该能力称为泛化能力。\n",
    "\n",
    "\n",
    "2.泛化能力的性质：\n",
    "\n",
    "通常期望经训练样本训练的网络具有较强的泛化能力，也就是对新输入给出合理响应的能力。\n",
    "\n",
    "应当指出并非训练的次数越多越能得到正确的输入输出映射关系。网络的性能主要用它的泛化能力来衡量。\n",
    "\n",
    "ref:https://baike.baidu.com/item/%E6%B3%9B%E5%8C%96%E8%83%BD%E5%8A%9B\n",
    "\n",
    "### 二、分類問題與回歸問題分別可用的目標函數有哪些？\n",
    "\n",
    "* 一、分類問題的目標函數：\n",
    "\n",
    "1.輸出機率：\n",
    "\n",
    "(1)邏輯(Logistic)回歸\n",
    "\n",
    "(2)神經元網路\n",
    "\n",
    "(3)分類決策樹\n",
    "\n",
    "(4)組合演算法\n",
    "\n",
    "\n",
    "2.輸出準確的類別：\n",
    "\n",
    "(1)支援向量機(SVM)\n",
    "\n",
    "(2)貝氏網路\n",
    "\n",
    "(3)深度學度\n",
    "\n",
    "(4)最近領域(KNN演算法)\n",
    "\n",
    "(5)組合演算法\n",
    "\n",
    "* 二、回歸問題的目標函數：\n",
    "\n",
    "1.線性回歸\n",
    "\n",
    "2.回歸神經元網路\n",
    "\n",
    "3.回歸決策樹\n",
    "\n",
    "4支援向量機(SVM)==>不常用\n",
    "\n",
    "5.最近鄰域(KNN)==>不常用\n",
    "\n"
   ]
  },
  {
   "cell_type": "code",
   "execution_count": null,
   "metadata": {},
   "outputs": [],
   "source": []
  },
  {
   "cell_type": "code",
   "execution_count": null,
   "metadata": {},
   "outputs": [],
   "source": []
  }
 ],
 "metadata": {
  "kernelspec": {
   "display_name": "Python 3",
   "language": "python",
   "name": "python3"
  },
  "language_info": {
   "codemirror_mode": {
    "name": "ipython",
    "version": 3
   },
   "file_extension": ".py",
   "mimetype": "text/x-python",
   "name": "python",
   "nbconvert_exporter": "python",
   "pygments_lexer": "ipython3",
   "version": "3.7.1"
  }
 },
 "nbformat": 4,
 "nbformat_minor": 2
}
