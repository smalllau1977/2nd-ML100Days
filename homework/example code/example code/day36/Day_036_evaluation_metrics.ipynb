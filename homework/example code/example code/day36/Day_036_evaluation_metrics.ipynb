{
 "cells": [
  {
   "cell_type": "markdown",
   "metadata": {},
   "source": [
    "## [教學目標]\n",
    "學習 sklearn 中，各種評估指標的使用與意義"
   ]
  },
  {
   "cell_type": "markdown",
   "metadata": {},
   "source": [
    "\n",
    "https://medium.com/@jacky308082/machine-learning-%E4%B8%8B%E7%9A%84-linear-regression-%E5%AF%A6%E4%BD%9C-%E4%BD%BF%E7%94%A8python-7e1dd03a4d46\n",
    "    \n",
    "https://zhuanlan.zhihu.com/p/36305931    "
   ]
  },
  {
   "cell_type": "markdown",
   "metadata": {},
   "source": [
    "## [範例重點]\n",
    "注意觀察各指標的數值範圍，以及輸入函數中的資料格式"
   ]
  },
  {
   "cell_type": "code",
   "execution_count": 1,
   "metadata": {},
   "outputs": [],
   "source": [
    "from sklearn import metrics, datasets\n",
    "from sklearn.linear_model import LinearRegression\n",
    "from sklearn.model_selection import train_test_split\n",
    "\n",
    "import matplotlib.pyplot as plt\n",
    "from matplotlib.pylab import rcParams\n",
    "import numpy as np\n",
    "%matplotlib inline"
   ]
  },
  {
   "cell_type": "markdown",
   "metadata": {},
   "source": [
    "## 回歸問題\n",
    "常見的評估指標有\n",
    "- MAE\n",
    "- MSE\n",
    "- R-square"
   ]
  },
  {
   "cell_type": "markdown",
   "metadata": {},
   "source": [
    "我們隨機生成(X, y)資料，然後使用線性回歸模型做預測，再使用 MAE, MSE, R-square 評估"
   ]
  },
  {
   "cell_type": "code",
   "execution_count": 2,
   "metadata": {},
   "outputs": [],
   "source": [
    "#sklearn.datasets.make_regression\n",
    "#   Generate a random regression problem.\n",
    "\n",
    "#(1) n_features : int, optional (default=100) ,The number of features.\n",
    "#    n_features=1，只有一種特徵(features)\n",
    "\n",
    "#(2) random_state : int, RandomState instance or None (default)\n",
    "#    random_state 相当于随机数种子random.seed() 。random_state 与 random seed 作用是相同的。\n",
    "\n",
    "\n",
    "#(3) noise : float, optional (default=0.0)，\n",
    "#            The standard deviation of the gaussian noise applied to the output.\n",
    "#    noise 分散程度\n",
    "\n",
    "X, y = datasets.make_regression(n_features=1, random_state=42, noise=4) # 生成資料"
   ]
  },
  {
   "cell_type": "code",
   "execution_count": 3,
   "metadata": {},
   "outputs": [
    {
     "data": {
      "text/plain": [
       "DescribeResult(nobs=100, minmax=(array([-2.6197451]), array([1.85227818])), mean=array([-0.10384652]), variance=array([0.82476989]), skewness=array([-0.17526772]), kurtosis=array([-0.15540471]))"
      ]
     },
     "execution_count": 3,
     "metadata": {},
     "output_type": "execute_result"
    }
   ],
   "source": [
    "from scipy import stats\n",
    "\n",
    "stats.describe(X)"
   ]
  },
  {
   "cell_type": "code",
   "execution_count": 4,
   "metadata": {},
   "outputs": [
    {
     "data": {
      "text/plain": [
       "DescribeResult(nobs=100, minmax=(-112.82160754913777, 77.62370930498577), mean=-3.9806127503457667, variance=1524.840320658906, skewness=-0.16442643330397616, kurtosis=-0.1529900516145557)"
      ]
     },
     "execution_count": 4,
     "metadata": {},
     "output_type": "execute_result"
    }
   ],
   "source": [
    "stats.describe(y)"
   ]
  },
  {
   "cell_type": "code",
   "execution_count": 5,
   "metadata": {},
   "outputs": [
    {
     "data": {
      "text/plain": [
       "<matplotlib.collections.PathCollection at 0x11c2f0b8>"
      ]
     },
     "execution_count": 5,
     "metadata": {},
     "output_type": "execute_result"
    },
    {
     "data": {
      "image/png": "[encoded data removed]",
      "text/plain": [
       "<Figure size 432x288 with 1 Axes>"
      ]
     },
     "metadata": {
      "needs_background": "light"
     },
     "output_type": "display_data"
    }
   ],
   "source": [
    "plt.scatter(X,y)"
   ]
  },
  {
   "cell_type": "code",
   "execution_count": 6,
   "metadata": {},
   "outputs": [
    {
     "data": {
      "text/plain": [
       "[<matplotlib.lines.Line2D at 0x11c839e8>]"
      ]
     },
     "execution_count": 6,
     "metadata": {},
     "output_type": "execute_result"
    },
    {
     "data": {
      "image/png": "[encoded data removed]",
      "text/plain": [
       "<Figure size 432x288 with 1 Axes>"
      ]
     },
     "metadata": {
      "needs_background": "light"
     },
     "output_type": "display_data"
    }
   ],
   "source": [
    "model = LinearRegression() # 建立回歸模型\n",
    "\n",
    "#Fit linear model.\n",
    "model.fit(X, y) # 將資料放進模型訓練\n",
    "\n",
    "#Predict using the linear model\n",
    "prediction = model.predict(X) # 進行預測\n",
    "\n",
    "\n",
    "plt.scatter(X,y)\n",
    "plt.plot(X,prediction)"
   ]
  },
  {
   "cell_type": "code",
   "execution_count": 7,
   "metadata": {},
   "outputs": [
    {
     "data": {
      "text/plain": [
       "[<matplotlib.lines.Line2D at 0x133a54e0>]"
      ]
     },
     "execution_count": 7,
     "metadata": {},
     "output_type": "execute_result"
    },
    {
     "data": {
      "image/png": "[encoded data removed]",
      "text/plain": [
       "<Figure size 432x288 with 1 Axes>"
      ]
     },
     "metadata": {
      "needs_background": "light"
     },
     "output_type": "display_data"
    }
   ],
   "source": [
    "plt.plot(X,prediction)"
   ]
  },
  {
   "cell_type": "code",
   "execution_count": 8,
   "metadata": {},
   "outputs": [
    {
     "data": {
      "text/plain": [
       "array([  40.34302144,    4.19336052,  -44.82463681,   13.92196864,\n",
       "        -20.05196866,   28.19976374,  -19.37728083,   23.69821121,\n",
       "         26.65773622,   43.43685133,   35.65952358,   66.32404624,\n",
       "         32.08683666,   -8.94020046,  -34.15326849,    4.39519929,\n",
       "        -83.44610398,   22.44391545,   44.61295924, -111.7102032 ,\n",
       "         21.7351118 ,    4.62286099,  -19.47628218,   39.66313291,\n",
       "         67.46334925,   63.2244349 ,  -25.25301918,   -1.06800796,\n",
       "        -25.29874711,  -50.75495713,   15.75743795,   16.55325801,\n",
       "         11.64430971,  -22.21803585,  -38.41511637,    8.89555137,\n",
       "        -12.33730754,   15.9511301 ,   35.68703118,  -12.02414261,\n",
       "         15.94083544,  -28.51943454,   65.68146599,  -21.72604009,\n",
       "         -9.5602909 ,  -16.32383999,  -12.42707205,  -27.15767739,\n",
       "         14.54301353,    9.40948672,  -13.56429239,    0.68500193,\n",
       "         -9.5595879 ,   63.74877183,  -16.02299543,   15.17961916,\n",
       "         14.65058997,   -7.48378366,   -9.57886424,  -84.64071703,\n",
       "         14.34316879,   -9.20158853,  -46.90669547,  -29.59553611,\n",
       "        -62.20097344,   41.9429676 ,  -73.39412162,  -81.45971124,\n",
       "        -23.61084058,   33.32723914,   35.25801848,  -60.00813202,\n",
       "        -62.84356791,  -51.80990295,  -35.46885226,   68.08719379,\n",
       "         42.2384282 ,   10.82675644,   13.14577668,  -22.84416529,\n",
       "        -75.0265015 ,    5.21569908,    7.80395507,  -56.40625383,\n",
       "         45.73152109,   -4.48595876,  -19.63662557,   -0.11189867,\n",
       "        -42.90290458,   -5.45436601,  -48.8189558 ,   58.53960426,\n",
       "          3.35757199,  -21.01895374,  -19.25828871,   79.77972406,\n",
       "        -60.54099899,  -30.35734324,   -2.6173933 ,  -12.77428191])"
      ]
     },
     "execution_count": 8,
     "metadata": {},
     "output_type": "execute_result"
    }
   ],
   "source": [
    "prediction"
   ]
  },
  {
   "cell_type": "code",
   "execution_count": 9,
   "metadata": {},
   "outputs": [
    {
     "name": "stdout",
     "output_type": "stream",
     "text": [
      "MAE:  2.841797252565566\n",
      "MSE:  12.48868006739824\n",
      "R-square:  0.9916581036260311\n"
     ]
    }
   ],
   "source": [
    "mae = metrics.mean_absolute_error(prediction, y) # 使用 MAE 評估\n",
    "mse = metrics.mean_squared_error(prediction, y)  # 使用 MSE 評估\n",
    "r2 = metrics.r2_score(prediction, y)             # 使用 r-square 評估\n",
    "\n",
    "print(\"MAE: \", mae)\n",
    "print(\"MSE: \", mse)\n",
    "print(\"R-square: \", r2)"
   ]
  },
  {
   "cell_type": "markdown",
   "metadata": {},
   "source": [
    "## 分類問題\n",
    "常見的評估指標有\n",
    "- AUC\n",
    "- F1-Score (Precision, Recall)"
   ]
  },
  {
   "cell_type": "code",
   "execution_count": 10,
   "metadata": {},
   "outputs": [],
   "source": [
    "cancer = datasets.load_breast_cancer() # 我們使用 sklearn 內含的乳癌資料集\n",
    "X_train, X_test, y_train, y_test = train_test_split(cancer.data, cancer.target, test_size=50, random_state=0)"
   ]
  },
  {
   "cell_type": "code",
   "execution_count": 11,
   "metadata": {},
   "outputs": [
    {
     "name": "stdout",
     "output_type": "stream",
     "text": [
      "[0 1 1 1 1 1 1 1 1 1 1 1 1 1 1 0 1 0 0 0 0 0 1 1 0 1 1 0 1 0 1 0 1 0 1 0 1\n",
      " 0 1 0 0 1 0 1 1 0 1 1 1 0]\n"
     ]
    }
   ],
   "source": [
    "print(y_test) # 測試集中的 label"
   ]
  },
  {
   "cell_type": "code",
   "execution_count": 12,
   "metadata": {},
   "outputs": [],
   "source": [
    "y_pred = np.random.random((50,)) # 我們先隨機生成 50 筆預測值，範圍都在 0~1 之間，代表機率值"
   ]
  },
  {
   "cell_type": "code",
   "execution_count": 13,
   "metadata": {},
   "outputs": [
    {
     "name": "stdout",
     "output_type": "stream",
     "text": [
      "[0.05071736 0.242871   0.77314401 0.94219913 0.82285351 0.96897887\n",
      " 0.54116433 0.88239267 0.81064257 0.16547978 0.76521774 0.0681749\n",
      " 0.51926906 0.52722183 0.18171296 0.92794219 0.49522616 0.61202655\n",
      " 0.48901205 0.79267964 0.71921899 0.13524899 0.97212145 0.09798628\n",
      " 0.20982759 0.1820066  0.31552986 0.91692072 0.77787463 0.80468087\n",
      " 0.90392886 0.77061232 0.52567833 0.83567755 0.82511877 0.22693609\n",
      " 0.92443158 0.30283708 0.6938658  0.59634156 0.76912137 0.55269033\n",
      " 0.57192989 0.16180589 0.97460127 0.27703645 0.46306349 0.42665952\n",
      " 0.83578048 0.69150745]\n"
     ]
    }
   ],
   "source": [
    "print(y_pred)"
   ]
  },
  {
   "cell_type": "markdown",
   "metadata": {},
   "source": [
    "### AUC"
   ]
  },
  {
   "cell_type": "code",
   "execution_count": 14,
   "metadata": {},
   "outputs": [
    {
     "name": "stdout",
     "output_type": "stream",
     "text": [
      "AUC:  0.5398981324278438\n"
     ]
    }
   ],
   "source": [
    "auc = metrics.roc_auc_score(y_test, y_pred) # 使用 roc_auc_score 來評估。 **這邊特別注意 y_pred 必須要放機率值進去!**\n",
    "print(\"AUC: \", auc) # 得到結果約 0.5，與亂猜的結果相近，因為我們的預測值是用隨機生成的"
   ]
  },
  {
   "cell_type": "markdown",
   "metadata": {},
   "source": [
    "## F1-Score"
   ]
  },
  {
   "cell_type": "code",
   "execution_count": 15,
   "metadata": {},
   "outputs": [
    {
     "name": "stdout",
     "output_type": "stream",
     "text": [
      "F1-Score:  0.634920634920635\n",
      "Precision:  0.625\n",
      "Recall:  0.6451612903225806\n"
     ]
    }
   ],
   "source": [
    "threshold = 0.5 \n",
    "y_pred_binarized = np.where(y_pred>threshold, 1, 0) # 使用 np.where 函數, 將 y_pred > 0.5 的值變為 1，小於 0.5 的為 0\n",
    "f1 = metrics.f1_score(y_test, y_pred_binarized) # 使用 F1-Score 評估\n",
    "precision = metrics.precision_score(y_test, y_pred_binarized) # 使用 Precision 評估\n",
    "recall  = metrics.recall_score(y_test, y_pred_binarized) # 使用 recall 評估\n",
    "print(\"F1-Score: \", f1) \n",
    "print(\"Precision: \", precision)\n",
    "print(\"Recall: \", recall)"
   ]
  },
  {
   "cell_type": "markdown",
   "metadata": {},
   "source": [
    "## [作業重點]\n",
    "了解 F1-score 的公式意義，並試著理解程式碼"
   ]
  },
  {
   "cell_type": "markdown",
   "metadata": {},
   "source": [
    "## 作業\n",
    "請參考 F1-score 的公式與[原始碼](https://github.com/scikit-learn/scikit-learn/blob/bac89c2/sklearn/metrics/classification.py#L620)，試著寫出 F2-Score 的計算函數"
   ]
  }
 ],
 "metadata": {
  "kernelspec": {
   "display_name": "Python 3",
   "language": "python",
   "name": "python3"
  },
  "language_info": {
   "codemirror_mode": {
    "name": "ipython",
    "version": 3
   },
   "file_extension": ".py",
   "mimetype": "text/x-python",
   "name": "python",
   "nbconvert_exporter": "python",
   "pygments_lexer": "ipython3",
   "version": "3.7.1"
  }
 },
 "nbformat": 4,
 "nbformat_minor": 2
}
